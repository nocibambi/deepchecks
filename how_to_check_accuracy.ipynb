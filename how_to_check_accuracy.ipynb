{
 "cells": [
  {
   "cell_type": "markdown",
   "metadata": {},
   "source": [
    " # Libraries"
   ]
  },
  {
   "cell_type": "code",
   "execution_count": 1,
   "metadata": {},
   "outputs": [],
   "source": [
    "# For IPython/Jupyter environments\n",
    "from IPython import get_ipython\n",
    "get_ipython().magic(\"matplotlib inline\")"
   ]
  },
  {
   "cell_type": "code",
   "execution_count": 2,
   "metadata": {},
   "outputs": [],
   "source": [
    "from sklearn import datasets\n",
    "import matplotlib.pyplot as plt\n",
    "import pandas as pd\n",
    "import numpy as np\n",
    "import seaborn as sns\n",
    "\n",
    "sns.set(rc={\"figure.figsize\": (16, 8), \"font.size\": 22})\n",
    "\n",
    "random_seed = 23\n",
    "np.random.seed(random_seed)"
   ]
  },
  {
   "cell_type": "code",
   "execution_count": 3,
   "metadata": {},
   "outputs": [],
   "source": [
    "from sklearn.tree import DecisionTreeClassifier\n",
    "from sklearn.model_selection import train_test_split\n",
    "from sklearn.linear_model import LogisticRegression\n",
    "from sklearn.neighbors import KNeighborsClassifier\n",
    "from sklearn.preprocessing import StandardScaler\n",
    "from sklearn.metrics import confusion_matrix, ConfusionMatrixDisplay"
   ]
  },
  {
   "cell_type": "markdown",
   "metadata": {},
   "source": [
    " # The Iris dataset"
   ]
  },
  {
   "cell_type": "code",
   "execution_count": 4,
   "metadata": {},
   "outputs": [
    {
     "data": {
      "text/html": [
       "<div>\n",
       "<style scoped>\n",
       "    .dataframe tbody tr th:only-of-type {\n",
       "        vertical-align: middle;\n",
       "    }\n",
       "\n",
       "    .dataframe tbody tr th {\n",
       "        vertical-align: top;\n",
       "    }\n",
       "\n",
       "    .dataframe thead th {\n",
       "        text-align: right;\n",
       "    }\n",
       "</style>\n",
       "<table border=\"1\" class=\"dataframe\">\n",
       "  <thead>\n",
       "    <tr style=\"text-align: right;\">\n",
       "      <th></th>\n",
       "      <th>sepal length (cm)</th>\n",
       "      <th>sepal width (cm)</th>\n",
       "      <th>petal length (cm)</th>\n",
       "      <th>petal width (cm)</th>\n",
       "      <th>labels</th>\n",
       "    </tr>\n",
       "  </thead>\n",
       "  <tbody>\n",
       "    <tr>\n",
       "      <th>139</th>\n",
       "      <td>6.9</td>\n",
       "      <td>3.1</td>\n",
       "      <td>5.4</td>\n",
       "      <td>2.1</td>\n",
       "      <td>virginica</td>\n",
       "    </tr>\n",
       "    <tr>\n",
       "      <th>125</th>\n",
       "      <td>7.2</td>\n",
       "      <td>3.2</td>\n",
       "      <td>6.0</td>\n",
       "      <td>1.8</td>\n",
       "      <td>virginica</td>\n",
       "    </tr>\n",
       "    <tr>\n",
       "      <th>67</th>\n",
       "      <td>5.8</td>\n",
       "      <td>2.7</td>\n",
       "      <td>4.1</td>\n",
       "      <td>1.0</td>\n",
       "      <td>versicolor</td>\n",
       "    </tr>\n",
       "    <tr>\n",
       "      <th>3</th>\n",
       "      <td>4.6</td>\n",
       "      <td>3.1</td>\n",
       "      <td>1.5</td>\n",
       "      <td>0.2</td>\n",
       "      <td>setosa</td>\n",
       "    </tr>\n",
       "    <tr>\n",
       "      <th>113</th>\n",
       "      <td>5.7</td>\n",
       "      <td>2.5</td>\n",
       "      <td>5.0</td>\n",
       "      <td>2.0</td>\n",
       "      <td>virginica</td>\n",
       "    </tr>\n",
       "  </tbody>\n",
       "</table>\n",
       "</div>"
      ],
      "text/plain": [
       "     sepal length (cm)  sepal width (cm)  petal length (cm)  petal width (cm)  \\\n",
       "139                6.9               3.1                5.4               2.1   \n",
       "125                7.2               3.2                6.0               1.8   \n",
       "67                 5.8               2.7                4.1               1.0   \n",
       "3                  4.6               3.1                1.5               0.2   \n",
       "113                5.7               2.5                5.0               2.0   \n",
       "\n",
       "         labels  \n",
       "139   virginica  \n",
       "125   virginica  \n",
       "67   versicolor  \n",
       "3        setosa  \n",
       "113   virginica  "
      ]
     },
     "execution_count": 4,
     "metadata": {},
     "output_type": "execute_result"
    }
   ],
   "source": [
    "iris = datasets.load_iris()\n",
    "\n",
    "features = iris[\"data\"]\n",
    "feature_names = iris.feature_names\n",
    "labels = iris[\"target\"]\n",
    "label_names = iris.target_names\n",
    "\n",
    "iris_data = pd.concat(\n",
    "    [\n",
    "        pd.DataFrame(features, columns=feature_names),\n",
    "        pd.Series(labels)\n",
    "        .rename(\"labels\")\n",
    "        .map({i: label for i, label in enumerate(label_names)}),\n",
    "    ],\n",
    "    axis=1,\n",
    ")\n",
    "iris_data.sample(5, random_state=random_seed)"
   ]
  },
  {
   "cell_type": "code",
   "execution_count": 5,
   "metadata": {},
   "outputs": [
    {
     "data": {
      "text/plain": [
       "Text(0.5, 1.0, 'Iris type by petal length and width')"
      ]
     },
     "execution_count": 5,
     "metadata": {},
     "output_type": "execute_result"
    },
    {
     "data": {
      "image/png": "[encoded data removed]",
      "text/plain": [
       "<Figure size 1152x576 with 2 Axes>"
      ]
     },
     "metadata": {},
     "output_type": "display_data"
    }
   ],
   "source": [
    "fig, axes = plt.subplots(1, 2)\n",
    "\n",
    "sns.scatterplot(\n",
    "    data=iris_data,\n",
    "    x=\"sepal length (cm)\",\n",
    "    y=\"sepal width (cm)\",\n",
    "    hue=\"labels\",\n",
    "    s=100,\n",
    "    ax=axes[0],\n",
    ").set_title(\"Iris type by sepal length and width\")\n",
    "\n",
    "sns.scatterplot(\n",
    "    data=iris_data,\n",
    "    x=\"petal length (cm)\",\n",
    "    y=\"petal width (cm)\",\n",
    "    hue=\"labels\",\n",
    "    s=100,\n",
    "    ax=axes[1],\n",
    ").set_title(\"Iris type by petal length and width\")"
   ]
  },
  {
   "cell_type": "code",
   "execution_count": 6,
   "metadata": {},
   "outputs": [
    {
     "data": {
      "text/html": [
       "<div>\n",
       "<style scoped>\n",
       "    .dataframe tbody tr th:only-of-type {\n",
       "        vertical-align: middle;\n",
       "    }\n",
       "\n",
       "    .dataframe tbody tr th {\n",
       "        vertical-align: top;\n",
       "    }\n",
       "\n",
       "    .dataframe thead th {\n",
       "        text-align: right;\n",
       "    }\n",
       "</style>\n",
       "<table border=\"1\" class=\"dataframe\">\n",
       "  <thead>\n",
       "    <tr style=\"text-align: right;\">\n",
       "      <th></th>\n",
       "      <th>sepal width (cm)</th>\n",
       "      <th>labels</th>\n",
       "    </tr>\n",
       "  </thead>\n",
       "  <tbody>\n",
       "    <tr>\n",
       "      <th>26</th>\n",
       "      <td>3.4</td>\n",
       "      <td>setosa</td>\n",
       "    </tr>\n",
       "    <tr>\n",
       "      <th>130</th>\n",
       "      <td>2.8</td>\n",
       "      <td>virginica</td>\n",
       "    </tr>\n",
       "    <tr>\n",
       "      <th>132</th>\n",
       "      <td>2.8</td>\n",
       "      <td>virginica</td>\n",
       "    </tr>\n",
       "    <tr>\n",
       "      <th>118</th>\n",
       "      <td>2.6</td>\n",
       "      <td>virginica</td>\n",
       "    </tr>\n",
       "    <tr>\n",
       "      <th>127</th>\n",
       "      <td>3.0</td>\n",
       "      <td>virginica</td>\n",
       "    </tr>\n",
       "  </tbody>\n",
       "</table>\n",
       "</div>"
      ],
      "text/plain": [
       "     sepal width (cm)     labels\n",
       "26                3.4     setosa\n",
       "130               2.8  virginica\n",
       "132               2.8  virginica\n",
       "118               2.6  virginica\n",
       "127               3.0  virginica"
      ]
     },
     "execution_count": 6,
     "metadata": {},
     "output_type": "execute_result"
    }
   ],
   "source": [
    "iris_binary = iris_data[iris_data[\"labels\"].isin([\"setosa\", \"virginica\"])]\n",
    "iris_binary_sepal = iris_binary.loc[:, [\"sepal width (cm)\", \"labels\"]]\n",
    "iris_binary_sepal.sample(5, random_state=random_seed)"
   ]
  },
  {
   "cell_type": "markdown",
   "metadata": {},
   "source": [
    " # Binary Classification"
   ]
  },
  {
   "cell_type": "code",
   "execution_count": 7,
   "metadata": {},
   "outputs": [],
   "source": [
    "X_train, X_test, y_train, y_test = train_test_split(\n",
    "    iris_binary_sepal.drop(columns=\"labels\"),\n",
    "    iris_binary_sepal.loc[:, \"labels\"],\n",
    "    train_size=0.8,\n",
    "    random_state=random_seed,\n",
    ")"
   ]
  },
  {
   "cell_type": "code",
   "execution_count": 8,
   "metadata": {},
   "outputs": [
    {
     "data": {
      "text/html": [
       "<div>\n",
       "<style scoped>\n",
       "    .dataframe tbody tr th:only-of-type {\n",
       "        vertical-align: middle;\n",
       "    }\n",
       "\n",
       "    .dataframe tbody tr th {\n",
       "        vertical-align: top;\n",
       "    }\n",
       "\n",
       "    .dataframe thead th {\n",
       "        text-align: right;\n",
       "    }\n",
       "</style>\n",
       "<table border=\"1\" class=\"dataframe\">\n",
       "  <thead>\n",
       "    <tr style=\"text-align: right;\">\n",
       "      <th></th>\n",
       "      <th>Ground truth</th>\n",
       "      <th>Prediction</th>\n",
       "      <th>Prediction success</th>\n",
       "    </tr>\n",
       "  </thead>\n",
       "  <tbody>\n",
       "    <tr>\n",
       "      <th>26</th>\n",
       "      <td>setosa</td>\n",
       "      <td>setosa</td>\n",
       "      <td>True</td>\n",
       "    </tr>\n",
       "    <tr>\n",
       "      <th>130</th>\n",
       "      <td>virginica</td>\n",
       "      <td>virginica</td>\n",
       "      <td>True</td>\n",
       "    </tr>\n",
       "    <tr>\n",
       "      <th>132</th>\n",
       "      <td>virginica</td>\n",
       "      <td>virginica</td>\n",
       "      <td>True</td>\n",
       "    </tr>\n",
       "    <tr>\n",
       "      <th>118</th>\n",
       "      <td>virginica</td>\n",
       "      <td>virginica</td>\n",
       "      <td>True</td>\n",
       "    </tr>\n",
       "    <tr>\n",
       "      <th>127</th>\n",
       "      <td>virginica</td>\n",
       "      <td>virginica</td>\n",
       "      <td>True</td>\n",
       "    </tr>\n",
       "    <tr>\n",
       "      <th>37</th>\n",
       "      <td>setosa</td>\n",
       "      <td>setosa</td>\n",
       "      <td>True</td>\n",
       "    </tr>\n",
       "    <tr>\n",
       "      <th>3</th>\n",
       "      <td>setosa</td>\n",
       "      <td>setosa</td>\n",
       "      <td>True</td>\n",
       "    </tr>\n",
       "    <tr>\n",
       "      <th>105</th>\n",
       "      <td>virginica</td>\n",
       "      <td>virginica</td>\n",
       "      <td>True</td>\n",
       "    </tr>\n",
       "    <tr>\n",
       "      <th>20</th>\n",
       "      <td>setosa</td>\n",
       "      <td>setosa</td>\n",
       "      <td>True</td>\n",
       "    </tr>\n",
       "    <tr>\n",
       "      <th>17</th>\n",
       "      <td>setosa</td>\n",
       "      <td>setosa</td>\n",
       "      <td>True</td>\n",
       "    </tr>\n",
       "    <tr>\n",
       "      <th>122</th>\n",
       "      <td>virginica</td>\n",
       "      <td>virginica</td>\n",
       "      <td>True</td>\n",
       "    </tr>\n",
       "    <tr>\n",
       "      <th>24</th>\n",
       "      <td>setosa</td>\n",
       "      <td>setosa</td>\n",
       "      <td>True</td>\n",
       "    </tr>\n",
       "    <tr>\n",
       "      <th>121</th>\n",
       "      <td>virginica</td>\n",
       "      <td>virginica</td>\n",
       "      <td>True</td>\n",
       "    </tr>\n",
       "    <tr>\n",
       "      <th>137</th>\n",
       "      <td>virginica</td>\n",
       "      <td>setosa</td>\n",
       "      <td>False</td>\n",
       "    </tr>\n",
       "    <tr>\n",
       "      <th>139</th>\n",
       "      <td>virginica</td>\n",
       "      <td>setosa</td>\n",
       "      <td>False</td>\n",
       "    </tr>\n",
       "    <tr>\n",
       "      <th>29</th>\n",
       "      <td>setosa</td>\n",
       "      <td>virginica</td>\n",
       "      <td>False</td>\n",
       "    </tr>\n",
       "    <tr>\n",
       "      <th>9</th>\n",
       "      <td>setosa</td>\n",
       "      <td>setosa</td>\n",
       "      <td>True</td>\n",
       "    </tr>\n",
       "    <tr>\n",
       "      <th>117</th>\n",
       "      <td>virginica</td>\n",
       "      <td>setosa</td>\n",
       "      <td>False</td>\n",
       "    </tr>\n",
       "    <tr>\n",
       "      <th>42</th>\n",
       "      <td>setosa</td>\n",
       "      <td>virginica</td>\n",
       "      <td>False</td>\n",
       "    </tr>\n",
       "    <tr>\n",
       "      <th>144</th>\n",
       "      <td>virginica</td>\n",
       "      <td>setosa</td>\n",
       "      <td>False</td>\n",
       "    </tr>\n",
       "  </tbody>\n",
       "</table>\n",
       "</div>"
      ],
      "text/plain": [
       "    Ground truth Prediction  Prediction success\n",
       "26        setosa     setosa                True\n",
       "130    virginica  virginica                True\n",
       "132    virginica  virginica                True\n",
       "118    virginica  virginica                True\n",
       "127    virginica  virginica                True\n",
       "37        setosa     setosa                True\n",
       "3         setosa     setosa                True\n",
       "105    virginica  virginica                True\n",
       "20        setosa     setosa                True\n",
       "17        setosa     setosa                True\n",
       "122    virginica  virginica                True\n",
       "24        setosa     setosa                True\n",
       "121    virginica  virginica                True\n",
       "137    virginica     setosa               False\n",
       "139    virginica     setosa               False\n",
       "29        setosa  virginica               False\n",
       "9         setosa     setosa                True\n",
       "117    virginica     setosa               False\n",
       "42        setosa  virginica               False\n",
       "144    virginica     setosa               False"
      ]
     },
     "execution_count": 8,
     "metadata": {},
     "output_type": "execute_result"
    }
   ],
   "source": [
    "model = DecisionTreeClassifier(random_state=random_seed)\n",
    "\n",
    "\n",
    "def get_prediction_results(X_train, y_train, y_test, model):\n",
    "    predictions = model.fit(X_train, y_train).predict(X_test)\n",
    "    return pd.concat(\n",
    "        [\n",
    "            pd.Series(y_test).rename(\"Ground truth\"),\n",
    "            pd.Series(predictions, index=y_test.index).rename(\"Prediction\"),\n",
    "            (predictions == y_test).rename(\"Prediction success\"),\n",
    "        ],\n",
    "        axis=1,\n",
    "    )\n",
    "\n",
    "\n",
    "prediction_results = get_prediction_results(X_train, y_train, y_test, model)\n",
    "prediction_results"
   ]
  },
  {
   "cell_type": "code",
   "execution_count": 9,
   "metadata": {},
   "outputs": [
    {
     "data": {
      "text/plain": [
       "0.7"
      ]
     },
     "execution_count": 9,
     "metadata": {},
     "output_type": "execute_result"
    }
   ],
   "source": [
    "prediction_results[\"Prediction success\"].sum() / prediction_results[\n",
    "    \"Prediction success\"\n",
    "].count()"
   ]
  },
  {
   "cell_type": "code",
   "execution_count": 10,
   "metadata": {},
   "outputs": [
    {
     "name": "stdout",
     "output_type": "stream",
     "text": [
      "Decision Tree 0.7\n",
      "Logistic Regression 0.8\n",
      "K-Neighbors 0.75\n"
     ]
    }
   ],
   "source": [
    "models = {\n",
    "    \"Decision Tree\": DecisionTreeClassifier(random_state=random_seed),\n",
    "    \"Logistic Regression\": LogisticRegression(random_state=random_seed),\n",
    "    \"K-Neighbors\": KNeighborsClassifier(),\n",
    "}\n",
    "\n",
    "scaler = StandardScaler().fit(X_train)\n",
    "X_train = scaler.transform(X_train)\n",
    "X_test = scaler.transform(X_test)\n",
    "\n",
    "\n",
    "def get_accuracy(X_train, y_train, model):\n",
    "    prediction_results = get_prediction_results(X_train, y_train, y_test, model)\n",
    "    return prediction_results[\"Prediction success\"].mean()\n",
    "\n",
    "\n",
    "for name, model in models.items():\n",
    "    print(name, get_accuracy(X_train, y_train, model))"
   ]
  },
  {
   "cell_type": "markdown",
   "metadata": {},
   "source": [
    " # The Accuracy Paradox\n",
    "\n",
    " Classification with imbalanced data using the Wisconsin cancer data set."
   ]
  },
  {
   "cell_type": "code",
   "execution_count": 11,
   "metadata": {},
   "outputs": [
    {
     "data": {
      "text/html": [
       "<div>\n",
       "<style scoped>\n",
       "    .dataframe tbody tr th:only-of-type {\n",
       "        vertical-align: middle;\n",
       "    }\n",
       "\n",
       "    .dataframe tbody tr th {\n",
       "        vertical-align: top;\n",
       "    }\n",
       "\n",
       "    .dataframe thead th {\n",
       "        text-align: right;\n",
       "    }\n",
       "</style>\n",
       "<table border=\"1\" class=\"dataframe\">\n",
       "  <thead>\n",
       "    <tr style=\"text-align: right;\">\n",
       "      <th></th>\n",
       "      <th>mean radius</th>\n",
       "      <th>mean texture</th>\n",
       "      <th>mean perimeter</th>\n",
       "      <th>mean area</th>\n",
       "      <th>mean smoothness</th>\n",
       "      <th>mean compactness</th>\n",
       "      <th>mean concavity</th>\n",
       "      <th>mean concave points</th>\n",
       "      <th>mean symmetry</th>\n",
       "      <th>mean fractal dimension</th>\n",
       "      <th>...</th>\n",
       "      <th>worst texture</th>\n",
       "      <th>worst perimeter</th>\n",
       "      <th>worst area</th>\n",
       "      <th>worst smoothness</th>\n",
       "      <th>worst compactness</th>\n",
       "      <th>worst concavity</th>\n",
       "      <th>worst concave points</th>\n",
       "      <th>worst symmetry</th>\n",
       "      <th>worst fractal dimension</th>\n",
       "      <th>labels</th>\n",
       "    </tr>\n",
       "  </thead>\n",
       "  <tbody>\n",
       "    <tr>\n",
       "      <th>155</th>\n",
       "      <td>12.25</td>\n",
       "      <td>17.94</td>\n",
       "      <td>78.27</td>\n",
       "      <td>460.3</td>\n",
       "      <td>0.08654</td>\n",
       "      <td>0.06679</td>\n",
       "      <td>0.03885</td>\n",
       "      <td>0.02331</td>\n",
       "      <td>0.1970</td>\n",
       "      <td>0.06228</td>\n",
       "      <td>...</td>\n",
       "      <td>25.22</td>\n",
       "      <td>86.6</td>\n",
       "      <td>564.2</td>\n",
       "      <td>0.1217</td>\n",
       "      <td>0.1788</td>\n",
       "      <td>0.1943</td>\n",
       "      <td>0.08211</td>\n",
       "      <td>0.3113</td>\n",
       "      <td>0.08132</td>\n",
       "      <td>benign</td>\n",
       "    </tr>\n",
       "    <tr>\n",
       "      <th>541</th>\n",
       "      <td>14.47</td>\n",
       "      <td>24.99</td>\n",
       "      <td>95.81</td>\n",
       "      <td>656.4</td>\n",
       "      <td>0.08837</td>\n",
       "      <td>0.12300</td>\n",
       "      <td>0.10090</td>\n",
       "      <td>0.03890</td>\n",
       "      <td>0.1872</td>\n",
       "      <td>0.06341</td>\n",
       "      <td>...</td>\n",
       "      <td>31.73</td>\n",
       "      <td>113.5</td>\n",
       "      <td>808.9</td>\n",
       "      <td>0.1340</td>\n",
       "      <td>0.4202</td>\n",
       "      <td>0.4040</td>\n",
       "      <td>0.12050</td>\n",
       "      <td>0.3187</td>\n",
       "      <td>0.10230</td>\n",
       "      <td>benign</td>\n",
       "    </tr>\n",
       "    <tr>\n",
       "      <th>202</th>\n",
       "      <td>23.29</td>\n",
       "      <td>26.67</td>\n",
       "      <td>158.90</td>\n",
       "      <td>1685.0</td>\n",
       "      <td>0.11410</td>\n",
       "      <td>0.20840</td>\n",
       "      <td>0.35230</td>\n",
       "      <td>0.16200</td>\n",
       "      <td>0.2200</td>\n",
       "      <td>0.06229</td>\n",
       "      <td>...</td>\n",
       "      <td>32.68</td>\n",
       "      <td>177.0</td>\n",
       "      <td>1986.0</td>\n",
       "      <td>0.1536</td>\n",
       "      <td>0.4167</td>\n",
       "      <td>0.7892</td>\n",
       "      <td>0.27330</td>\n",
       "      <td>0.3198</td>\n",
       "      <td>0.08762</td>\n",
       "      <td>malignant</td>\n",
       "    </tr>\n",
       "    <tr>\n",
       "      <th>409</th>\n",
       "      <td>12.27</td>\n",
       "      <td>17.92</td>\n",
       "      <td>78.41</td>\n",
       "      <td>466.1</td>\n",
       "      <td>0.08685</td>\n",
       "      <td>0.06526</td>\n",
       "      <td>0.03211</td>\n",
       "      <td>0.02653</td>\n",
       "      <td>0.1966</td>\n",
       "      <td>0.05597</td>\n",
       "      <td>...</td>\n",
       "      <td>28.88</td>\n",
       "      <td>89.0</td>\n",
       "      <td>610.2</td>\n",
       "      <td>0.1240</td>\n",
       "      <td>0.1795</td>\n",
       "      <td>0.1377</td>\n",
       "      <td>0.09532</td>\n",
       "      <td>0.3455</td>\n",
       "      <td>0.06896</td>\n",
       "      <td>benign</td>\n",
       "    </tr>\n",
       "    <tr>\n",
       "      <th>64</th>\n",
       "      <td>12.68</td>\n",
       "      <td>23.84</td>\n",
       "      <td>82.69</td>\n",
       "      <td>499.0</td>\n",
       "      <td>0.11220</td>\n",
       "      <td>0.12620</td>\n",
       "      <td>0.11280</td>\n",
       "      <td>0.06873</td>\n",
       "      <td>0.1905</td>\n",
       "      <td>0.06590</td>\n",
       "      <td>...</td>\n",
       "      <td>33.47</td>\n",
       "      <td>111.8</td>\n",
       "      <td>888.3</td>\n",
       "      <td>0.1851</td>\n",
       "      <td>0.4061</td>\n",
       "      <td>0.4024</td>\n",
       "      <td>0.17160</td>\n",
       "      <td>0.3383</td>\n",
       "      <td>0.10310</td>\n",
       "      <td>malignant</td>\n",
       "    </tr>\n",
       "  </tbody>\n",
       "</table>\n",
       "<p>5 rows × 31 columns</p>\n",
       "</div>"
      ],
      "text/plain": [
       "     mean radius  mean texture  mean perimeter  mean area  mean smoothness  \\\n",
       "155        12.25         17.94           78.27      460.3          0.08654   \n",
       "541        14.47         24.99           95.81      656.4          0.08837   \n",
       "202        23.29         26.67          158.90     1685.0          0.11410   \n",
       "409        12.27         17.92           78.41      466.1          0.08685   \n",
       "64         12.68         23.84           82.69      499.0          0.11220   \n",
       "\n",
       "     mean compactness  mean concavity  mean concave points  mean symmetry  \\\n",
       "155           0.06679         0.03885              0.02331         0.1970   \n",
       "541           0.12300         0.10090              0.03890         0.1872   \n",
       "202           0.20840         0.35230              0.16200         0.2200   \n",
       "409           0.06526         0.03211              0.02653         0.1966   \n",
       "64            0.12620         0.11280              0.06873         0.1905   \n",
       "\n",
       "     mean fractal dimension  ...  worst texture  worst perimeter  worst area  \\\n",
       "155                 0.06228  ...          25.22             86.6       564.2   \n",
       "541                 0.06341  ...          31.73            113.5       808.9   \n",
       "202                 0.06229  ...          32.68            177.0      1986.0   \n",
       "409                 0.05597  ...          28.88             89.0       610.2   \n",
       "64                  0.06590  ...          33.47            111.8       888.3   \n",
       "\n",
       "     worst smoothness  worst compactness  worst concavity  \\\n",
       "155            0.1217             0.1788           0.1943   \n",
       "541            0.1340             0.4202           0.4040   \n",
       "202            0.1536             0.4167           0.7892   \n",
       "409            0.1240             0.1795           0.1377   \n",
       "64             0.1851             0.4061           0.4024   \n",
       "\n",
       "     worst concave points  worst symmetry  worst fractal dimension     labels  \n",
       "155               0.08211          0.3113                  0.08132     benign  \n",
       "541               0.12050          0.3187                  0.10230     benign  \n",
       "202               0.27330          0.3198                  0.08762  malignant  \n",
       "409               0.09532          0.3455                  0.06896     benign  \n",
       "64                0.17160          0.3383                  0.10310  malignant  \n",
       "\n",
       "[5 rows x 31 columns]"
      ]
     },
     "execution_count": 11,
     "metadata": {},
     "output_type": "execute_result"
    }
   ],
   "source": [
    "cancer = datasets.load_breast_cancer()\n",
    "\n",
    "features = cancer[\"data\"]\n",
    "feature_names = cancer.feature_names\n",
    "labels = cancer[\"target\"]\n",
    "label_names = cancer.target_names\n",
    "\n",
    "cancer_data = pd.concat(\n",
    "    [\n",
    "        pd.DataFrame(features, columns=feature_names),\n",
    "        pd.Series(labels)\n",
    "        .rename(\"labels\")\n",
    "        .map({i: label for i, label in enumerate(label_names)}),\n",
    "    ],\n",
    "    axis=1,\n",
    ")\n",
    "cancer_data.sample(5, random_state=random_seed)"
   ]
  },
  {
   "cell_type": "code",
   "execution_count": 12,
   "metadata": {},
   "outputs": [
    {
     "data": {
      "text/plain": [
       "benign       0.944444\n",
       "malignant    0.055556\n",
       "Name: labels, dtype: float64"
      ]
     },
     "execution_count": 12,
     "metadata": {},
     "output_type": "execute_result"
    }
   ],
   "source": [
    "cancer_data_imbalanced = pd.concat(\n",
    "    [\n",
    "        cancer_data[cancer_data[\"labels\"] == \"malignant\"].sample(\n",
    "            frac=0.1, random_state=random_seed\n",
    "        ),\n",
    "        cancer_data[cancer_data[\"labels\"] == \"benign\"],\n",
    "    ]\n",
    ")\n",
    "cancer_data_imbalanced = cancer_data_imbalanced.loc[:, [\"mean texture\", \"labels\"]]\n",
    "\n",
    "cancer_data_imbalanced[\"labels\"].value_counts(normalize=True)"
   ]
  },
  {
   "cell_type": "code",
   "execution_count": 13,
   "metadata": {},
   "outputs": [
    {
     "data": {
      "text/html": [
       "<div>\n",
       "<style scoped>\n",
       "    .dataframe tbody tr th:only-of-type {\n",
       "        vertical-align: middle;\n",
       "    }\n",
       "\n",
       "    .dataframe tbody tr th {\n",
       "        vertical-align: top;\n",
       "    }\n",
       "\n",
       "    .dataframe thead th {\n",
       "        text-align: right;\n",
       "    }\n",
       "</style>\n",
       "<table border=\"1\" class=\"dataframe\">\n",
       "  <thead>\n",
       "    <tr style=\"text-align: right;\">\n",
       "      <th></th>\n",
       "      <th>mean texture</th>\n",
       "      <th>labels</th>\n",
       "    </tr>\n",
       "  </thead>\n",
       "  <tbody>\n",
       "    <tr>\n",
       "      <th>357</th>\n",
       "      <td>16.21</td>\n",
       "      <td>benign</td>\n",
       "    </tr>\n",
       "    <tr>\n",
       "      <th>518</th>\n",
       "      <td>18.22</td>\n",
       "      <td>benign</td>\n",
       "    </tr>\n",
       "    <tr>\n",
       "      <th>299</th>\n",
       "      <td>23.09</td>\n",
       "      <td>benign</td>\n",
       "    </tr>\n",
       "    <tr>\n",
       "      <th>125</th>\n",
       "      <td>17.21</td>\n",
       "      <td>benign</td>\n",
       "    </tr>\n",
       "    <tr>\n",
       "      <th>520</th>\n",
       "      <td>13.90</td>\n",
       "      <td>benign</td>\n",
       "    </tr>\n",
       "  </tbody>\n",
       "</table>\n",
       "</div>"
      ],
      "text/plain": [
       "     mean texture  labels\n",
       "357         16.21  benign\n",
       "518         18.22  benign\n",
       "299         23.09  benign\n",
       "125         17.21  benign\n",
       "520         13.90  benign"
      ]
     },
     "execution_count": 13,
     "metadata": {},
     "output_type": "execute_result"
    }
   ],
   "source": [
    "cancer_data_imbalanced.sample(5, random_state=random_seed)"
   ]
  },
  {
   "cell_type": "code",
   "execution_count": 14,
   "metadata": {},
   "outputs": [],
   "source": [
    "X_train, X_test, y_train, y_test = train_test_split(\n",
    "    cancer_data_imbalanced.drop(columns=\"labels\"),\n",
    "    cancer_data_imbalanced.loc[:, \"labels\"],\n",
    "    train_size=0.8,\n",
    "    random_state=random_seed,\n",
    ")"
   ]
  },
  {
   "cell_type": "code",
   "execution_count": 15,
   "metadata": {},
   "outputs": [
    {
     "data": {
      "text/plain": [
       "0.9473684210526315"
      ]
     },
     "execution_count": 15,
     "metadata": {},
     "output_type": "execute_result"
    }
   ],
   "source": [
    "model = DecisionTreeClassifier(random_state=random_seed)\n",
    "prediction_results = get_prediction_results(X_train, y_train, y_test, model)\n",
    "prediction_results[\"Prediction success\"].sum() / prediction_results[\n",
    "    \"Prediction success\"\n",
    "].count()"
   ]
  },
  {
   "cell_type": "code",
   "execution_count": 16,
   "metadata": {},
   "outputs": [
    {
     "data": {
      "text/plain": [
       "<sklearn.metrics._plot.confusion_matrix.ConfusionMatrixDisplay at 0x7f1adf6ad430>"
      ]
     },
     "execution_count": 16,
     "metadata": {},
     "output_type": "execute_result"
    },
    {
     "data": {
      "image/png": "[encoded data removed]",
      "text/plain": [
       "<Figure size 1296x720 with 2 Axes>"
      ]
     },
     "metadata": {},
     "output_type": "display_data"
    }
   ],
   "source": [
    "# pd.DataFrame(\n",
    "#     confusion_matrix(\n",
    "#         prediction_results[\"Ground truth\"], prediction_results[\"Prediction\"]\n",
    "#     ),\n",
    "#     columns=[\"predicted 'benign'\", \"predicted 'malignant'\"],\n",
    "#     index=[\"true 'benign'\", \"true 'malignant'\"],\n",
    "# )\n",
    "\n",
    "cmd = ConfusionMatrixDisplay(\n",
    "    confusion_matrix(\n",
    "        prediction_results[\"Ground truth\"],\n",
    "        prediction_results[\"Prediction\"],  # normalize='all'\n",
    "    ),\n",
    "    display_labels=model.classes_,\n",
    ")\n",
    "_, ax = plt.subplots(1, 1, figsize=(18, 10))\n",
    "ax.grid(False)\n",
    "cmd.plot(ax=ax, cmap='Purples')"
   ]
  },
  {
   "cell_type": "markdown",
   "metadata": {},
   "source": [
    " # Multi-class classification"
   ]
  },
  {
   "cell_type": "code",
   "execution_count": 17,
   "metadata": {},
   "outputs": [
    {
     "data": {
      "text/html": [
       "<div>\n",
       "<style scoped>\n",
       "    .dataframe tbody tr th:only-of-type {\n",
       "        vertical-align: middle;\n",
       "    }\n",
       "\n",
       "    .dataframe tbody tr th {\n",
       "        vertical-align: top;\n",
       "    }\n",
       "\n",
       "    .dataframe thead th {\n",
       "        text-align: right;\n",
       "    }\n",
       "</style>\n",
       "<table border=\"1\" class=\"dataframe\">\n",
       "  <thead>\n",
       "    <tr style=\"text-align: right;\">\n",
       "      <th></th>\n",
       "      <th>sepal width (cm)</th>\n",
       "      <th>sepal length (cm)</th>\n",
       "      <th>labels</th>\n",
       "    </tr>\n",
       "  </thead>\n",
       "  <tbody>\n",
       "    <tr>\n",
       "      <th>139</th>\n",
       "      <td>3.1</td>\n",
       "      <td>6.9</td>\n",
       "      <td>virginica</td>\n",
       "    </tr>\n",
       "    <tr>\n",
       "      <th>125</th>\n",
       "      <td>3.2</td>\n",
       "      <td>7.2</td>\n",
       "      <td>virginica</td>\n",
       "    </tr>\n",
       "    <tr>\n",
       "      <th>67</th>\n",
       "      <td>2.7</td>\n",
       "      <td>5.8</td>\n",
       "      <td>versicolor</td>\n",
       "    </tr>\n",
       "    <tr>\n",
       "      <th>3</th>\n",
       "      <td>3.1</td>\n",
       "      <td>4.6</td>\n",
       "      <td>setosa</td>\n",
       "    </tr>\n",
       "    <tr>\n",
       "      <th>113</th>\n",
       "      <td>2.5</td>\n",
       "      <td>5.7</td>\n",
       "      <td>virginica</td>\n",
       "    </tr>\n",
       "  </tbody>\n",
       "</table>\n",
       "</div>"
      ],
      "text/plain": [
       "     sepal width (cm)  sepal length (cm)      labels\n",
       "139               3.1                6.9   virginica\n",
       "125               3.2                7.2   virginica\n",
       "67                2.7                5.8  versicolor\n",
       "3                 3.1                4.6      setosa\n",
       "113               2.5                5.7   virginica"
      ]
     },
     "execution_count": 17,
     "metadata": {},
     "output_type": "execute_result"
    }
   ],
   "source": [
    "iris_data_sepal = iris_data.loc[:, [\"sepal width (cm)\", \"sepal length (cm)\", \"labels\"]]\n",
    "iris_data_sepal.sample(5, random_state=random_seed)"
   ]
  },
  {
   "cell_type": "code",
   "execution_count": 18,
   "metadata": {},
   "outputs": [],
   "source": [
    "X_train, X_test, y_train, y_test = train_test_split(\n",
    "    iris_data_sepal.drop(columns=\"labels\"),\n",
    "    iris_data_sepal.loc[:, \"labels\"],\n",
    "    train_size=0.8,\n",
    "    random_state=random_seed,\n",
    ")"
   ]
  },
  {
   "cell_type": "code",
   "execution_count": 19,
   "metadata": {},
   "outputs": [
    {
     "data": {
      "text/plain": [
       "0.7666666666666667"
      ]
     },
     "execution_count": 19,
     "metadata": {},
     "output_type": "execute_result"
    }
   ],
   "source": [
    "model = DecisionTreeClassifier(random_state=random_seed)\n",
    "prediction_results = get_prediction_results(X_train, y_train, y_test, model)\n",
    "prediction_results[\"Prediction success\"].mean()"
   ]
  },
  {
   "cell_type": "code",
   "execution_count": 20,
   "metadata": {},
   "outputs": [],
   "source": [
    "# pd.pivot_table(\n",
    "#     prediction_results, columns='Prediction', index='Ground truth',\n",
    "#     aggfunc='count', fill_value=0, margins=True\n",
    "# ).droplevel(0, axis=1).div(prediction_results.shape[0])"
   ]
  },
  {
   "cell_type": "code",
   "execution_count": 21,
   "metadata": {},
   "outputs": [],
   "source": [
    "# prediction_results.groupby(['Ground truth', 'Prediction']).count()"
   ]
  },
  {
   "cell_type": "code",
   "execution_count": 22,
   "metadata": {},
   "outputs": [],
   "source": [
    "# prediction_results.groupby(\"Ground truth\")[\"Prediction success\"].mean()"
   ]
  },
  {
   "cell_type": "code",
   "execution_count": 23,
   "metadata": {},
   "outputs": [
    {
     "data": {
      "text/plain": [
       "<sklearn.metrics._plot.confusion_matrix.ConfusionMatrixDisplay at 0x7f1adf60a040>"
      ]
     },
     "execution_count": 23,
     "metadata": {},
     "output_type": "execute_result"
    },
    {
     "data": {
      "image/png": "[encoded data removed]",
      "text/plain": [
       "<Figure size 1296x720 with 2 Axes>"
      ]
     },
     "metadata": {},
     "output_type": "display_data"
    }
   ],
   "source": [
    "cmd = ConfusionMatrixDisplay(\n",
    "    confusion_matrix(\n",
    "        prediction_results[\"Ground truth\"],\n",
    "        prediction_results[\"Prediction\"],\n",
    "        normalize='true',\n",
    "    ),\n",
    "    display_labels=model.classes_,\n",
    ")\n",
    "_, ax = plt.subplots(1, 1, figsize=(18, 10))\n",
    "ax.grid(False)\n",
    "cmd.plot(ax=ax, cmap='Purples')"
   ]
  },
  {
   "cell_type": "code",
   "execution_count": 24,
   "metadata": {},
   "outputs": [
    {
     "data": {
      "text/plain": [
       "Text(0.5, 1.0, 'Predictions with decision tree classifier by sepal length and width')"
      ]
     },
     "execution_count": 24,
     "metadata": {},
     "output_type": "execute_result"
    },
    {
     "data": {
      "image/png": "[encoded data removed]",
      "text/plain": [
       "<Figure size 1152x576 with 1 Axes>"
      ]
     },
     "metadata": {},
     "output_type": "display_data"
    }
   ],
   "source": [
    "prediction_results_features = (\n",
    "    pd.merge(\n",
    "        iris_data, prediction_results, how=\"inner\", left_index=True, right_index=True\n",
    "    )\n",
    "    .drop(columns=\"labels\")\n",
    "    .melt(\n",
    "        id_vars=[\"sepal length (cm)\", \"sepal width (cm)\"],\n",
    "        value_vars=[\"Ground truth\", \"Prediction\"],\n",
    "        value_name=\"label\",\n",
    "        var_name=\"status\",\n",
    "    )\n",
    ")\n",
    "\n",
    "sns.scatterplot(\n",
    "    data=prediction_results_features,\n",
    "    x=\"sepal length (cm)\",\n",
    "    y=\"sepal width (cm)\",\n",
    "    hue=\"label\",\n",
    "    style=\"status\",\n",
    "    s=300,\n",
    "    alpha=0.5,\n",
    ").set_title(\"Predictions with decision tree classifier by sepal length and width\")"
   ]
  },
  {
   "cell_type": "markdown",
   "metadata": {},
   "source": [
    " # Multi-label classification"
   ]
  },
  {
   "cell_type": "code",
   "execution_count": 25,
   "metadata": {},
   "outputs": [
    {
     "data": {
      "text/plain": [
       "((1000, 47236), (1000, 103))"
      ]
     },
     "execution_count": 25,
     "metadata": {},
     "output_type": "execute_result"
    }
   ],
   "source": [
    "rcv1 = datasets.fetch_rcv1()\n",
    "rcv1_data, rcv1_target, sample_id, target_names = (\n",
    "    rcv1[\"data\"],\n",
    "    rcv1[\"target\"],\n",
    "    rcv1[\"sample_id\"],\n",
    "    rcv1[\"target_names\"],\n",
    ")\n",
    "samples = np.random.randint(0, rcv1_data.shape[0], 1000)\n",
    "rcv1_data_sample = rcv1_data[samples]\n",
    "rcv1_target_sample = rcv1_target[samples]\n",
    "rcv1_data_sample.shape, rcv1_target_sample.shape"
   ]
  },
  {
   "cell_type": "code",
   "execution_count": 26,
   "metadata": {},
   "outputs": [],
   "source": [
    "X_train, X_test, y_train, y_test = train_test_split(\n",
    "    rcv1_data_sample.toarray(),\n",
    "    rcv1_target_sample.toarray(),\n",
    "    train_size=0.8,\n",
    "    random_state=random_seed,\n",
    ")"
   ]
  },
  {
   "cell_type": "code",
   "execution_count": 27,
   "metadata": {},
   "outputs": [
    {
     "data": {
      "text/plain": [
       "array([[0, 0, 0, ..., 0, 0, 0],\n",
       "       [0, 0, 0, ..., 0, 0, 0],\n",
       "       [0, 0, 0, ..., 0, 0, 0],\n",
       "       ...,\n",
       "       [0, 0, 0, ..., 0, 0, 1],\n",
       "       [0, 0, 0, ..., 0, 0, 0],\n",
       "       [0, 0, 0, ..., 0, 0, 0]], dtype=uint8)"
      ]
     },
     "execution_count": 27,
     "metadata": {},
     "output_type": "execute_result"
    }
   ],
   "source": [
    "model = DecisionTreeClassifier(random_state=random_seed)\n",
    "predictions = model.fit(X_train, y_train).predict(X_test)\n",
    "predictions"
   ]
  },
  {
   "cell_type": "code",
   "execution_count": 28,
   "metadata": {},
   "outputs": [
    {
     "data": {
      "text/plain": [
       "0.9679126213592233"
      ]
     },
     "execution_count": 28,
     "metadata": {},
     "output_type": "execute_result"
    }
   ],
   "source": [
    "(y_test == predictions).mean()"
   ]
  },
  {
   "cell_type": "markdown",
   "metadata": {},
   "source": [
    " Hamming score or Overall Accuracy or\n",
    " $\\\\ \\frac {1} {n} \\sum_{i=1}^{n} \\frac {|Y_i \\cap Z_i|} {|Y_i \\cup Z_i|}$"
   ]
  },
  {
   "cell_type": "code",
   "execution_count": 29,
   "metadata": {},
   "outputs": [
    {
     "data": {
      "text/plain": [
       "0.42860930735930736"
      ]
     },
     "execution_count": 29,
     "metadata": {},
     "output_type": "execute_result"
    }
   ],
   "source": [
    "def hamming_score(y_test, predictions):\n",
    "    return (\n",
    "        (y_test & predictions).sum(axis=1) / (y_test | predictions).sum(axis=1)\n",
    "    ).sum() / predictions.shape[0]\n",
    "\n",
    "\n",
    "hamming_score(y_test, predictions)"
   ]
  },
  {
   "cell_type": "code",
   "execution_count": 30,
   "metadata": {},
   "outputs": [
    {
     "data": {
      "text/html": [
       "<style type=\"text/css\">\n",
       "#T_f6ca7_row0_col0, #T_f6ca7_row0_col1, #T_f6ca7_row0_col2, #T_f6ca7_row0_col3, #T_f6ca7_row0_col4, #T_f6ca7_row1_col0, #T_f6ca7_row1_col1, #T_f6ca7_row1_col2, #T_f6ca7_row1_col3, #T_f6ca7_row1_col4, #T_f6ca7_row2_col0, #T_f6ca7_row2_col1, #T_f6ca7_row2_col2, #T_f6ca7_row2_col3, #T_f6ca7_row2_col4, #T_f6ca7_row3_col0, #T_f6ca7_row3_col1, #T_f6ca7_row3_col2, #T_f6ca7_row3_col3, #T_f6ca7_row3_col4 {\n",
       "  text-align: center;\n",
       "}\n",
       "</style>\n",
       "<table id=\"T_f6ca7_\">\n",
       "  <thead>\n",
       "    <tr>\n",
       "      <th class=\"col_heading level0 col0\" >a</th>\n",
       "      <th class=\"col_heading level0 col1\" >b</th>\n",
       "      <th class=\"col_heading level0 col2\" >a == b</th>\n",
       "      <th class=\"col_heading level0 col3\" >a AND b</th>\n",
       "      <th class=\"col_heading level0 col4\" >a OR b</th>\n",
       "    </tr>\n",
       "  </thead>\n",
       "  <tbody>\n",
       "    <tr>\n",
       "      <td id=\"T_f6ca7_row0_col0\" class=\"data row0 col0\" >1</td>\n",
       "      <td id=\"T_f6ca7_row0_col1\" class=\"data row0 col1\" >0</td>\n",
       "      <td id=\"T_f6ca7_row0_col2\" class=\"data row0 col2\" >0</td>\n",
       "      <td id=\"T_f6ca7_row0_col3\" class=\"data row0 col3\" >0</td>\n",
       "      <td id=\"T_f6ca7_row0_col4\" class=\"data row0 col4\" >1</td>\n",
       "    </tr>\n",
       "    <tr>\n",
       "      <td id=\"T_f6ca7_row1_col0\" class=\"data row1 col0\" >1</td>\n",
       "      <td id=\"T_f6ca7_row1_col1\" class=\"data row1 col1\" >1</td>\n",
       "      <td id=\"T_f6ca7_row1_col2\" class=\"data row1 col2\" >1</td>\n",
       "      <td id=\"T_f6ca7_row1_col3\" class=\"data row1 col3\" >1</td>\n",
       "      <td id=\"T_f6ca7_row1_col4\" class=\"data row1 col4\" >1</td>\n",
       "    </tr>\n",
       "    <tr>\n",
       "      <td id=\"T_f6ca7_row2_col0\" class=\"data row2 col0\" >0</td>\n",
       "      <td id=\"T_f6ca7_row2_col1\" class=\"data row2 col1\" >0</td>\n",
       "      <td id=\"T_f6ca7_row2_col2\" class=\"data row2 col2\" >1</td>\n",
       "      <td id=\"T_f6ca7_row2_col3\" class=\"data row2 col3\" >0</td>\n",
       "      <td id=\"T_f6ca7_row2_col4\" class=\"data row2 col4\" >0</td>\n",
       "    </tr>\n",
       "    <tr>\n",
       "      <td id=\"T_f6ca7_row3_col0\" class=\"data row3 col0\" >0</td>\n",
       "      <td id=\"T_f6ca7_row3_col1\" class=\"data row3 col1\" >1</td>\n",
       "      <td id=\"T_f6ca7_row3_col2\" class=\"data row3 col2\" >0</td>\n",
       "      <td id=\"T_f6ca7_row3_col3\" class=\"data row3 col3\" >0</td>\n",
       "      <td id=\"T_f6ca7_row3_col4\" class=\"data row3 col4\" >1</td>\n",
       "    </tr>\n",
       "  </tbody>\n",
       "</table>\n"
      ],
      "text/plain": [
       "<pandas.io.formats.style.Styler at 0x7f1adf5326d0>"
      ]
     },
     "execution_count": 30,
     "metadata": {},
     "output_type": "execute_result"
    }
   ],
   "source": [
    "a = np.random.randint(0, 2, 10)\n",
    "b = np.random.randint(0, 2, 10)\n",
    "a = np.concatenate([np.full(2, 1), np.full(2, 0)])\n",
    "b = np.tile(np.array([0, 1]), 2)\n",
    "pd.DataFrame(\n",
    "    [a, b, (a == b) * 1, a & b, a | b], index=[\"a\", \"b\", \"a == b\", \"a AND b\", \"a OR b\"]\n",
    ").T.style.hide_index().set_properties(**{\"text-align\": \"center\"})"
   ]
  },
  {
   "cell_type": "markdown",
   "metadata": {},
   "source": [
    " ## Exact match ratio\n",
    " Subset accuracy: the labelsets must exactly match to be 'true'\n",
    "\n",
    "\n",
    " $ \\\\ \\frac{1}{n} \\sum_{i=1}^{n} [[Y_i = Z_i]] $"
   ]
  },
  {
   "cell_type": "code",
   "execution_count": 31,
   "metadata": {},
   "outputs": [
    {
     "data": {
      "text/plain": [
       "0.285"
      ]
     },
     "execution_count": 31,
     "metadata": {},
     "output_type": "execute_result"
    }
   ],
   "source": [
    "def exact_match(y_test, predictions):\n",
    "    return (y_test == predictions).all(axis=1).mean()\n",
    "\n",
    "\n",
    "exact_match(y_test, predictions)"
   ]
  },
  {
   "cell_type": "markdown",
   "metadata": {},
   "source": [
    " ## Hamming loss\n",
    " $ \\frac{1}{nL} \\sum_{n=1}^{n} |Y_i \\ne Z_i | $"
   ]
  },
  {
   "cell_type": "code",
   "execution_count": 32,
   "metadata": {},
   "outputs": [
    {
     "data": {
      "text/plain": [
       "0.0320873786407767"
      ]
     },
     "execution_count": 32,
     "metadata": {},
     "output_type": "execute_result"
    }
   ],
   "source": [
    "def hamming_loss(y_test, predictions):\n",
    "    return (y_test != predictions).sum().sum() / y_test.size\n",
    "\n",
    "\n",
    "hamming_loss(y_test, predictions)"
   ]
  },
  {
   "cell_type": "markdown",
   "metadata": {},
   "source": [
    " # Normalization"
   ]
  },
  {
   "cell_type": "code",
   "execution_count": 33,
   "metadata": {},
   "outputs": [
    {
     "name": "stdout",
     "output_type": "stream",
     "text": [
      "\n",
      "Train set:\n",
      "    Normalized before split: [-0.5100153 -0.1700051  0.1700051 -0.8500255 -0.1700051 -0.5100153\n",
      " -0.5100153 -0.1700051]\n",
      "    Normalized after split: [-0.57735027  0.57735027  1.73205081 -1.73205081  0.57735027 -0.57735027\n",
      " -0.57735027  0.57735027]\n",
      "\n",
      "Test set:\n",
      "    Normalized before split: [ 2.8900867 -0.1700051]\n",
      "    Normalized after split: [10.96965511  0.57735027]\n",
      "\n"
     ]
    },
    {
     "data": {
      "image/png": "[encoded data removed]",
      "text/plain": [
       "<Figure size 1296x1152 with 2 Axes>"
      ]
     },
     "metadata": {},
     "output_type": "display_data"
    }
   ],
   "source": [
    "import numpy as np\n",
    "\n",
    "feature = np.array([2, 3, 4, 1, 3, 2, 2, 3, 12, 3])\n",
    "\n",
    "# Normalize before data split\n",
    "mean_bef, std_bef = np.mean(feature), np.std(feature)\n",
    "feature_norm_bef = (feature - mean_bef) / std_bef\n",
    "train_norm_bef, test_norm_bef = feature_norm_bef[:8], feature_norm_bef[8:]\n",
    "\n",
    "# Normalize after data split\n",
    "train, test = feature[:8], feature[8:]\n",
    "mean_aft, std_aft = np.mean(train), np.std(train)\n",
    "train_norm_aft = (train - mean_aft) / std_aft\n",
    "test_norm_aft = (test - mean_aft) / std_aft\n",
    "\n",
    "\n",
    "print(\n",
    "    f\"\"\"\n",
    "Train set:\n",
    "    Normalized before split: {train_norm_bef}\n",
    "    Normalized after split: {train_norm_aft}\n",
    "\n",
    "Test set:\n",
    "    Normalized before split: {test_norm_bef}\n",
    "    Normalized after split: {test_norm_aft}\n",
    "\"\"\"\n",
    ")\n",
    "\n",
    "fig, axes = plt.subplots(2, 1, figsize=(18, 2 * 8), sharex=True)\n",
    "axes[0].hist(\n",
    "    x=train_norm_bef, alpha=0.5,\n",
    ")\n",
    "axes[0].set_title(\"Train set: normalization before split\", fontsize=25)\n",
    "\n",
    "axes[1].hist(\n",
    "    x=test_norm_bef, alpha=0.5,\n",
    ")\n",
    "axes[1].set_title(\"Test set: normalization before split\", fontsize=25)\n",
    "plt.show()"
   ]
  },
  {
   "cell_type": "code",
   "execution_count": 34,
   "metadata": {},
   "outputs": [
    {
     "data": {
      "text/plain": [
       "Text(0.5, 1.0, 'Test set: normalization after split')"
      ]
     },
     "execution_count": 34,
     "metadata": {},
     "output_type": "execute_result"
    },
    {
     "data": {
      "image/png": "[encoded data removed]",
      "text/plain": [
       "<Figure size 1296x1152 with 2 Axes>"
      ]
     },
     "metadata": {},
     "output_type": "display_data"
    }
   ],
   "source": [
    "fig, axes = plt.subplots(2, 1, figsize=(18, 2 * 8), sharex=True)\n",
    "axes[0].hist(\n",
    "    x=train_norm_aft, color=\"r\", alpha=0.5,\n",
    ")\n",
    "axes[0].set_title(\"Train set: normalization after split\", fontsize=25)\n",
    "\n",
    "axes[1].hist(\n",
    "    x=test_norm_aft, color=\"r\", alpha=0.5,\n",
    ")\n",
    "axes[1].set_title(\"Test set: normalization after split\", fontsize=25)"
   ]
  }
 ],
 "metadata": {
  "kernelspec": {
   "display_name": "Python 3",
   "language": "python",
   "name": "python3"
  },
  "language_info": {
   "codemirror_mode": {
    "name": "ipython",
    "version": 3
   },
   "file_extension": ".py",
   "mimetype": "text/x-python",
   "name": "python",
   "nbconvert_exporter": "python",
   "pygments_lexer": "ipython3",
   "version": "3.8.5"
  }
 },
 "nbformat": 4,
 "nbformat_minor": 2
}
